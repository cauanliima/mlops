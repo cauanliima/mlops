{
          "cells": [
                    {
                              "cell_type": "code",
                              "execution_count": null,
                              "id": "2ca10879",
                              "metadata": {},
                              "outputs": [],
                              "source": [
                                        "# Qualidade de código\n",
                                        "%pip install --upgrade pip > /dev/null\n",
                                        "%pip install pycodestyle pycodestyle_magic > /dev/null\n",
                                        "%pip install flake8 > /dev/null\n",
                                        "%pip install ipywidgets > /dev/null\n",
                                        "%pip install -U scikit-learn numpy pandas ipywidgets IPython requests > /dev/null\n",
                                        "%load_ext pycodestyle_magic\n",
                                        "# %%pycodestyle"
                              ]
                    },
                    {
                              "cell_type": "code",
                              "execution_count": 25,
                              "id": "a18e60db",
                              "metadata": {},
                              "outputs": [],
                              "source": [
                                        "import logging\n",
                                        "import requests\n",
                                        "import re\n",
                                        "from datetime import date\n",
                                        "import pandas as pd\n",
                                        "from datetime import datetime\n",
                                        "import pytz\n",
                                        "import ipywidgets as widgets\n",
                                        "from IPython.display import display\n",
                                        "from sklearn.metrics.pairwise import cosine_similarity\n",
                                        "from sklearn.feature_extraction.text import TfidfVectorizer\n",
                                        "import numpy as np"
                              ]
                    },
                    {
                              "cell_type": "code",
                              "execution_count": 26,
                              "id": "e625d006",
                              "metadata": {},
                              "outputs": [],
                              "source": [
                                        "# Basic logging configuration\n",
                                        "\n",
                                        "# Configuração do arquivo de log, nível de log, modo de arquivo e formato de mensagem\n",
                                        "logging.basicConfig(\n",
                                        "    filename='./results.log',  # Caminho do arquivo de log\n",
                                        "    level=logging.DEBUG,  # Nível de log: DEBUG, INFO, WARNING, ERROR, CRITICAL\n",
                                        "    filemode='w',  # Modo de arquivo: 'w' para sobrescrever, 'a' para adicionar\n",
                                        "    format='%(name)s - %(levelname)s - %(message)s'  # Formato da mensagem no arquivo de log\n",
                                        ")\n",
                                        "\n",
                                        "\n",
                                        "logging.debug(f\"Inicialização de logs - {date.today()} {datetime.now(pytz.timezone('America/Recife'))}\")"
                              ]
                    },
                    {
                              "cell_type": "markdown",
                              "id": "09375d6d",
                              "metadata": {},
                              "source": [
                                        "## Funções"
                              ]
                    },
                    {
                              "cell_type": "code",
                              "execution_count": 27,
                              "id": "c559c565-8eda-4858-8006-728a9a1738e9",
                              "metadata": {},
                              "outputs": [],
                              "source": [
                                        "# re.sub(\"[^a-zA-Z0-9 ]\", \"\", title), remove todos os caracteres\n",
                                        "# que não são letras, dígitos ou espaços em branco da variável title.\n",
                                        "def clean_title(title):\n",
                                        "    title = re.sub(\"[^a-zA-Z0-9 ]\", \"\", title)\n",
                                        "    return title"
                              ]
                    },
                    {
                              "cell_type": "code",
                              "execution_count": 28,
                              "id": "87827a95-5f95-42b8-975e-ff08bcabba88",
                              "metadata": {},
                              "outputs": [],
                              "source": [
                                        "def find_similar_movies(movie_id):\n",
                                        "    \"\"\"\n",
                                        "    Encontra e retorna uma lista de filmes similares com base no ID do filme fornecido.\n",
                                        "\n",
                                        "    Esta função analisa os dados de classificação para encontrar usuários\n",
                                        "    que atribuíram uma alta pontuação ao filme especificado. Em seguida,\n",
                                        "    identifica outros filmes que esses usuários também classificaram\n",
                                        "    positivamente e calcula uma pontuação de similaridade.\n",
                                        "    Os filmes com as pontuações de similaridade mais altas são retornados\n",
                                        "    como recomendações.\n",
                                        "\n",
                                        "    Args:\n",
                                        "        movie_id (int): O ID do filme para o qual se deseja encontrar filmes similares.\n",
                                        "\n",
                                        "    Exemplo:\n",
                                        "        find_similar_movies(123)\n",
                                        "        # Retorna uma lista de até 10 filmes similares ao filme com o ID 123.\n",
                                        "\n",
                                        "    Retorna:\n",
                                        "        pandas.DataFrame: Um DataFrame contendo informações sobre filmes similares,\n",
                                        "        incluindo a pontuação de similaridade, título e gêneros.\n",
                                        "    \"\"\"\n",
                                        "\n",
                                        "    # Encontra usuários que deram uma classificação alta (maior que 4) para o\n",
                                        "    # filme especificado (movie_id)\n",
                                        "    similar_users = ratings[(ratings[\"movieId\"] == movie_id) & (\n",
                                        "        ratings[\"rating\"] > 4)][\"userId\"].unique()\n",
                                        "\n",
                                        "    # Filtra as classificações dos filmes por usuários que também\n",
                                        "    # classificaram positivamente outros filmes\n",
                                        "    similar_user_recs = ratings[(ratings[\"userId\"].isin(\n",
                                        "        similar_users)) & (ratings[\"rating\"] > 4)][\"movieId\"]\n",
                                        "\n",
                                        "    # Calcula a frequência relativa dos filmes recomendados pelos usuários\n",
                                        "    # similares\n",
                                        "    similar_user_recs = similar_user_recs.value_counts() / len(similar_users)\n",
                                        "\n",
                                        "    # Filtra filmes que foram recomendados por pelo menos 10% dos usuários\n",
                                        "    # similares\n",
                                        "    similar_user_recs = similar_user_recs[similar_user_recs > .10]\n",
                                        "\n",
                                        "    # Filtra todas as classificações dos usuários que recomendaram filmes\n",
                                        "    # similares\n",
                                        "    all_users = ratings[(ratings[\"movieId\"].isin(\n",
                                        "        similar_user_recs.index)) & (ratings[\"rating\"] > 4)]\n",
                                        "\n",
                                        "    # Calcula a frequência relativa dos filmes recomendados por todos os\n",
                                        "    # usuários\n",
                                        "    all_user_recs = all_users[\"movieId\"].value_counts(\n",
                                        "    ) / len(all_users[\"userId\"].unique())\n",
                                        "\n",
                                        "    # Cria um DataFrame combinando as frequências dos filmes recomendados\n",
                                        "    # pelos usuários similares e por todos os usuários\n",
                                        "    rec_percentages = pd.concat([similar_user_recs, all_user_recs], axis=1)\n",
                                        "    rec_percentages.columns = [\"similar\", \"all\"]\n",
                                        "\n",
                                        "    # Calcula uma pontuação de similaridade dividindo as recomendações dos\n",
                                        "    # usuários similares pelo total de recomendações\n",
                                        "    rec_percentages[\"score\"] = rec_percentages[\"similar\"] / \\\n",
                                        "        rec_percentages[\"all\"]\n",
                                        "\n",
                                        "    # Ordena os filmes com base na pontuação de similaridade em ordem\n",
                                        "    # decrescente\n",
                                        "    rec_percentages = rec_percentages.sort_values(\"score\", ascending=False)\n",
                                        "\n",
                                        "    # Seleciona os 10 filmes com as pontuações de similaridade mais altas e mescla com o\n",
                                        "    # DataFrame 'movies' para obter informações adicionais retorna um DataFrame contendo\n",
                                        "    # as pontuações de similaridade, títulos e gêneros dos 10 filmes mais semelhantes\n",
                                        "    return rec_percentages.head(10).merge(\n",
                                        "        movies, left_index=True, right_on=\"movieId\")[[\"score\", \"title\", \"genres\"]]"
                              ]
                    },
                    {
                              "cell_type": "code",
                              "execution_count": 29,
                              "id": "85315ee7",
                              "metadata": {},
                              "outputs": [],
                              "source": [
                                        "def on_type(data):\n",
                                        "    \"\"\"\n",
                                        "    Atualiza a lista de recomendações quando o usuário digita um título de filme.\n",
                                        "\n",
                                        "    Esta função é chamada quando o usuário digita um novo título de filme em um campo de entrada.\n",
                                        "    Ela pesquisa o título fornecido, exibe filmes similares com base na primeira correspondência\n",
                                        "    e os apresenta na lista de recomendações.\n",
                                        "\n",
                                        "    Args:\n",
                                        "        data (dict): Um dicionário contendo os dados fornecidos pelo usuário.\n",
                                        "            Espera-se que o dicionário tenha uma chave \"new\" contendo o título do filme inserido\n",
                                        "            pelo usuário.\n",
                                        "\n",
                                        "    Exemplo:\n",
                                        "        on_type({\"new\": \"Matrix\"})\n",
                                        "        # Atualiza a lista de recomendações com filmes semelhantes a \"Matrix\".\n",
                                        "\n",
                                        "    Retorna:\n",
                                        "        None\n",
                                        "    \"\"\"\n",
                                        "    try:\n",
                                        "        with recommendation_list:\n",
                                        "            # Limpa a saída anterior da lista de recomendações\n",
                                        "            recommendation_list.clear_output()\n",
                                        "\n",
                                        "            # Obtém o título inserido pelo usuário\n",
                                        "            title = data[\"new\"]\n",
                                        "\n",
                                        "            # Verifica se o título inserido possui mais de 5 caracteres\n",
                                        "            if len(title) > 5:\n",
                                        "                # Realiza uma pesquisa com base no título inserido\n",
                                        "                results = search(title)\n",
                                        "\n",
                                        "                # Obtém o ID do primeiro filme na lista de resultados\n",
                                        "                movie_id = results.iloc[0][\"movieId\"]\n",
                                        "\n",
                                        "                # Encontra e exibe filmes similares com base no ID do filme\n",
                                        "                display(find_similar_movies(movie_id))\n",
                                        "                logging.debug(\"Quantidade de títulos maior que 5\")\n",
                                        "            else:\n",
                                        "                logging.debug(\"Quantidade de títulos menor ou igual que 5\")\n",
                                        "    except requests.RequestException as get_exception:\n",
                                        "        logging.error(\"❌ On_type failed: %s\",get_exception)"
                              ]
                    },
                    {
                              "cell_type": "code",
                              "execution_count": 30,
                              "id": "f5f0e7c0",
                              "metadata": {},
                              "outputs": [],
                              "source": [
                                        "def search(title):\n",
                                        "    \"\"\"\n",
                                        "    Realiza uma pesquisa por títulos de filmes semelhantes usando a técnica TF-IDF.\n",
                                        "\n",
                                        "    Esta função recebe um título de filme, limpa e vetoriza o título usando um\n",
                                        "    modelo pré-treinado, e em seguida, calcula a similaridade de cosseno entre\n",
                                        "    o título inserido e os títulos na base de dados.\n",
                                        "    Retorna uma lista dos 5 filmes mais semelhantes ao título fornecido.\n",
                                        "\n",
                                        "    Args:\n",
                                        "        title (str): O título do filme para o qual deseja-se encontrar filmes semelhantes.\n",
                                        "\n",
                                        "    Exemplo:\n",
                                        "        search(\"Matrix\")\n",
                                        "        # Retorna uma lista dos 5 filmes mais semelhantes ao filme \"Matrix\".\n",
                                        "\n",
                                        "    Retorna:\n",
                                        "        pandas.DataFrame: Um DataFrame contendo informações sobre os filmes mais semelhantes,\n",
                                        "        incluindo título, gêneros e outras informações relevantes.\n",
                                        "    \"\"\"\n",
                                        "    # Limpa o título removendo caracteres especiais e transforma para\n",
                                        "    # minúsculas\n",
                                        "    title = clean_title(title)\n",
                                        "\n",
                                        "    # Converte o título em um vetor usando o modelo de vetorização previamente\n",
                                        "    # treinado (vectorizer)\n",
                                        "    query_vec = vectorizer.transform([title])\n",
                                        "\n",
                                        "    # Calcula a similaridade de cosseno entre o título inserido e os títulos\n",
                                        "    # na base de dados (tfidf)\n",
                                        "    similarity = cosine_similarity(query_vec, tfidf).flatten()\n",
                                        "\n",
                                        "    # Obtém os índices dos 5 filmes mais semelhantes\n",
                                        "    indices = np.argpartition(similarity, -5)[-5:]\n",
                                        "\n",
                                        "    # Reordena os resultados para mostrar os filmes mais semelhantes primeiro\n",
                                        "    results = movies.iloc[indices].iloc[::-1]\n",
                                        "\n",
                                        "    return results"
                              ]
                    },
                    {
                              "cell_type": "code",
                              "execution_count": 31,
                              "id": "d341a9a7",
                              "metadata": {},
                              "outputs": [],
                              "source": [
                                        "movies = pd.read_csv(\"ml-25m/movies.csv\")\n",
                                        "ratings = pd.read_csv(\"ml-25m/ratings.csv\")\n",
                                        "# Converte uma coleção de documentos em uma matriz de recursos do TF-IDF.\n",
                                        "vectorizer = TfidfVectorizer(ngram_range=(1, 2))\n",
                                        "movies[\"clean_title\"] = movies[\"title\"].apply(clean_title)\n",
                                        "tfidf = vectorizer.fit_transform(movies[\"clean_title\"])"
                              ]
                    },
                    {
                              "cell_type": "markdown",
                              "id": "5bbcb3cb",
                              "metadata": {},
                              "source": [
                                        "## Testes unitários"
                              ]
                    },
                    {
                              "cell_type": "code",
                              "execution_count": 32,
                              "id": "6f936dba",
                              "metadata": {},
                              "outputs": [
                                        {
                                                  "data": {
                                                            "text/plain": [
                                                                      "userId         int64\n",
                                                                      "movieId        int64\n",
                                                                      "rating       float64\n",
                                                                      "timestamp      int64\n",
                                                                      "dtype: object"
                                                            ]
                                                  },
                                                  "execution_count": 32,
                                                  "metadata": {},
                                                  "output_type": "execute_result"
                                        }
                              ],
                              "source": [
                                        "ratings.dtypes"
                              ]
                    },
                    {
                              "cell_type": "code",
                              "execution_count": 33,
                              "id": "7ff8016a",
                              "metadata": {},
                              "outputs": [
                                        {
                                                  "data": {
                                                            "text/plain": [
                                                                      "movieId         int64\n",
                                                                      "title          object\n",
                                                                      "genres         object\n",
                                                                      "clean_title    object\n",
                                                                      "dtype: object"
                                                            ]
                                                  },
                                                  "execution_count": 33,
                                                  "metadata": {},
                                                  "output_type": "execute_result"
                                        }
                              ],
                              "source": [
                                        "movies.dtypes"
                              ]
                    },
                    {
                              "cell_type": "code",
                              "execution_count": 34,
                              "id": "3d4d0376",
                              "metadata": {},
                              "outputs": [
                                        {
                                                  "data": {
                                                            "text/html": [
                                                                      "<div>\n",
                                                                      "<style scoped>\n",
                                                                      "    .dataframe tbody tr th:only-of-type {\n",
                                                                      "        vertical-align: middle;\n",
                                                                      "    }\n",
                                                                      "\n",
                                                                      "    .dataframe tbody tr th {\n",
                                                                      "        vertical-align: top;\n",
                                                                      "    }\n",
                                                                      "\n",
                                                                      "    .dataframe thead th {\n",
                                                                      "        text-align: right;\n",
                                                                      "    }\n",
                                                                      "</style>\n",
                                                                      "<table border=\"1\" class=\"dataframe\">\n",
                                                                      "  <thead>\n",
                                                                      "    <tr style=\"text-align: right;\">\n",
                                                                      "      <th></th>\n",
                                                                      "      <th>movieId</th>\n",
                                                                      "      <th>title</th>\n",
                                                                      "      <th>genres</th>\n",
                                                                      "      <th>clean_title</th>\n",
                                                                      "    </tr>\n",
                                                                      "  </thead>\n",
                                                                      "  <tbody>\n",
                                                                      "    <tr>\n",
                                                                      "      <th>0</th>\n",
                                                                      "      <td>1</td>\n",
                                                                      "      <td>Toy Story (1995)</td>\n",
                                                                      "      <td>Adventure|Animation|Children|Comedy|Fantasy</td>\n",
                                                                      "      <td>Toy Story 1995</td>\n",
                                                                      "    </tr>\n",
                                                                      "    <tr>\n",
                                                                      "      <th>1</th>\n",
                                                                      "      <td>2</td>\n",
                                                                      "      <td>Jumanji (1995)</td>\n",
                                                                      "      <td>Adventure|Children|Fantasy</td>\n",
                                                                      "      <td>Jumanji 1995</td>\n",
                                                                      "    </tr>\n",
                                                                      "    <tr>\n",
                                                                      "      <th>2</th>\n",
                                                                      "      <td>3</td>\n",
                                                                      "      <td>Grumpier Old Men (1995)</td>\n",
                                                                      "      <td>Comedy|Romance</td>\n",
                                                                      "      <td>Grumpier Old Men 1995</td>\n",
                                                                      "    </tr>\n",
                                                                      "    <tr>\n",
                                                                      "      <th>3</th>\n",
                                                                      "      <td>4</td>\n",
                                                                      "      <td>Waiting to Exhale (1995)</td>\n",
                                                                      "      <td>Comedy|Drama|Romance</td>\n",
                                                                      "      <td>Waiting to Exhale 1995</td>\n",
                                                                      "    </tr>\n",
                                                                      "    <tr>\n",
                                                                      "      <th>4</th>\n",
                                                                      "      <td>5</td>\n",
                                                                      "      <td>Father of the Bride Part II (1995)</td>\n",
                                                                      "      <td>Comedy</td>\n",
                                                                      "      <td>Father of the Bride Part II 1995</td>\n",
                                                                      "    </tr>\n",
                                                                      "    <tr>\n",
                                                                      "      <th>...</th>\n",
                                                                      "      <td>...</td>\n",
                                                                      "      <td>...</td>\n",
                                                                      "      <td>...</td>\n",
                                                                      "      <td>...</td>\n",
                                                                      "    </tr>\n",
                                                                      "    <tr>\n",
                                                                      "      <th>62418</th>\n",
                                                                      "      <td>209157</td>\n",
                                                                      "      <td>We (2018)</td>\n",
                                                                      "      <td>Drama</td>\n",
                                                                      "      <td>We 2018</td>\n",
                                                                      "    </tr>\n",
                                                                      "    <tr>\n",
                                                                      "      <th>62419</th>\n",
                                                                      "      <td>209159</td>\n",
                                                                      "      <td>Window of the Soul (2001)</td>\n",
                                                                      "      <td>Documentary</td>\n",
                                                                      "      <td>Window of the Soul 2001</td>\n",
                                                                      "    </tr>\n",
                                                                      "    <tr>\n",
                                                                      "      <th>62420</th>\n",
                                                                      "      <td>209163</td>\n",
                                                                      "      <td>Bad Poems (2018)</td>\n",
                                                                      "      <td>Comedy|Drama</td>\n",
                                                                      "      <td>Bad Poems 2018</td>\n",
                                                                      "    </tr>\n",
                                                                      "    <tr>\n",
                                                                      "      <th>62421</th>\n",
                                                                      "      <td>209169</td>\n",
                                                                      "      <td>A Girl Thing (2001)</td>\n",
                                                                      "      <td>(no genres listed)</td>\n",
                                                                      "      <td>A Girl Thing 2001</td>\n",
                                                                      "    </tr>\n",
                                                                      "    <tr>\n",
                                                                      "      <th>62422</th>\n",
                                                                      "      <td>209171</td>\n",
                                                                      "      <td>Women of Devil's Island (1962)</td>\n",
                                                                      "      <td>Action|Adventure|Drama</td>\n",
                                                                      "      <td>Women of Devils Island 1962</td>\n",
                                                                      "    </tr>\n",
                                                                      "  </tbody>\n",
                                                                      "</table>\n",
                                                                      "<p>62423 rows × 4 columns</p>\n",
                                                                      "</div>"
                                                            ],
                                                            "text/plain": [
                                                                      "       movieId                               title  \\\n",
                                                                      "0            1                    Toy Story (1995)   \n",
                                                                      "1            2                      Jumanji (1995)   \n",
                                                                      "2            3             Grumpier Old Men (1995)   \n",
                                                                      "3            4            Waiting to Exhale (1995)   \n",
                                                                      "4            5  Father of the Bride Part II (1995)   \n",
                                                                      "...        ...                                 ...   \n",
                                                                      "62418   209157                           We (2018)   \n",
                                                                      "62419   209159           Window of the Soul (2001)   \n",
                                                                      "62420   209163                    Bad Poems (2018)   \n",
                                                                      "62421   209169                 A Girl Thing (2001)   \n",
                                                                      "62422   209171      Women of Devil's Island (1962)   \n",
                                                                      "\n",
                                                                      "                                            genres  \\\n",
                                                                      "0      Adventure|Animation|Children|Comedy|Fantasy   \n",
                                                                      "1                       Adventure|Children|Fantasy   \n",
                                                                      "2                                   Comedy|Romance   \n",
                                                                      "3                             Comedy|Drama|Romance   \n",
                                                                      "4                                           Comedy   \n",
                                                                      "...                                            ...   \n",
                                                                      "62418                                        Drama   \n",
                                                                      "62419                                  Documentary   \n",
                                                                      "62420                                 Comedy|Drama   \n",
                                                                      "62421                           (no genres listed)   \n",
                                                                      "62422                       Action|Adventure|Drama   \n",
                                                                      "\n",
                                                                      "                            clean_title  \n",
                                                                      "0                        Toy Story 1995  \n",
                                                                      "1                          Jumanji 1995  \n",
                                                                      "2                 Grumpier Old Men 1995  \n",
                                                                      "3                Waiting to Exhale 1995  \n",
                                                                      "4      Father of the Bride Part II 1995  \n",
                                                                      "...                                 ...  \n",
                                                                      "62418                           We 2018  \n",
                                                                      "62419           Window of the Soul 2001  \n",
                                                                      "62420                    Bad Poems 2018  \n",
                                                                      "62421                 A Girl Thing 2001  \n",
                                                                      "62422       Women of Devils Island 1962  \n",
                                                                      "\n",
                                                                      "[62423 rows x 4 columns]"
                                                            ]
                                                  },
                                                  "execution_count": 34,
                                                  "metadata": {},
                                                  "output_type": "execute_result"
                                        }
                              ],
                              "source": [
                                        "movies"
                              ]
                    },
                    {
                              "cell_type": "code",
                              "execution_count": 35,
                              "id": "c4eb6501",
                              "metadata": {},
                              "outputs": [
                                        {
                                                  "data": {
                                                            "text/html": [
                                                                      "<div>\n",
                                                                      "<style scoped>\n",
                                                                      "    .dataframe tbody tr th:only-of-type {\n",
                                                                      "        vertical-align: middle;\n",
                                                                      "    }\n",
                                                                      "\n",
                                                                      "    .dataframe tbody tr th {\n",
                                                                      "        vertical-align: top;\n",
                                                                      "    }\n",
                                                                      "\n",
                                                                      "    .dataframe thead th {\n",
                                                                      "        text-align: right;\n",
                                                                      "    }\n",
                                                                      "</style>\n",
                                                                      "<table border=\"1\" class=\"dataframe\">\n",
                                                                      "  <thead>\n",
                                                                      "    <tr style=\"text-align: right;\">\n",
                                                                      "      <th></th>\n",
                                                                      "      <th>movieId</th>\n",
                                                                      "      <th>title</th>\n",
                                                                      "      <th>genres</th>\n",
                                                                      "      <th>clean_title</th>\n",
                                                                      "    </tr>\n",
                                                                      "  </thead>\n",
                                                                      "  <tbody>\n",
                                                                      "    <tr>\n",
                                                                      "      <th>17067</th>\n",
                                                                      "      <td>89745</td>\n",
                                                                      "      <td>Avengers, The (2012)</td>\n",
                                                                      "      <td>Action|Adventure|Sci-Fi|IMAX</td>\n",
                                                                      "      <td>Avengers The 2012</td>\n",
                                                                      "    </tr>\n",
                                                                      "  </tbody>\n",
                                                                      "</table>\n",
                                                                      "</div>"
                                                            ],
                                                            "text/plain": [
                                                                      "       movieId                 title                        genres  \\\n",
                                                                      "17067    89745  Avengers, The (2012)  Action|Adventure|Sci-Fi|IMAX   \n",
                                                                      "\n",
                                                                      "             clean_title  \n",
                                                                      "17067  Avengers The 2012  "
                                                            ]
                                                  },
                                                  "execution_count": 35,
                                                  "metadata": {},
                                                  "output_type": "execute_result"
                                        }
                              ],
                              "source": [
                                        "movie_id = 89745\n",
                                        "\n",
                                        "# def find_similar_movies(movie_id):\n",
                                        "movie = movies[movies[\"movieId\"] == movie_id]\n",
                                        "movie"
                              ]
                    },
                    {
                              "cell_type": "code",
                              "execution_count": 36,
                              "id": "c3687873",
                              "metadata": {},
                              "outputs": [
                                        {
                                                  "data": {
                                                            "text/plain": [
                                                                      "array([    21,    187,    208, ..., 162469, 162485, 162532])"
                                                            ]
                                                  },
                                                  "execution_count": 36,
                                                  "metadata": {},
                                                  "output_type": "execute_result"
                                        }
                              ],
                              "source": [
                                        "similar_users = ratings[(ratings[\"movieId\"] == movie_id) &\\\n",
                                        "                         (ratings[\"rating\"] > 4)][\"userId\"].unique()\n",
                                        "similar_users"
                              ]
                    },
                    {
                              "cell_type": "code",
                              "execution_count": 37,
                              "id": "e523d7a9",
                              "metadata": {},
                              "outputs": [
                                        {
                                                  "data": {
                                                            "text/plain": [
                                                                      "3741           318\n",
                                                                      "3742           527\n",
                                                                      "3743           541\n",
                                                                      "3744           589\n",
                                                                      "3745           741\n",
                                                                      "             ...  \n",
                                                                      "24998517     91542\n",
                                                                      "24998518     92259\n",
                                                                      "24998522     98809\n",
                                                                      "24998523    102125\n",
                                                                      "24998524    112852\n",
                                                                      "Name: movieId, Length: 577796, dtype: int64"
                                                            ]
                                                  },
                                                  "execution_count": 37,
                                                  "metadata": {},
                                                  "output_type": "execute_result"
                                        }
                              ],
                              "source": [
                                        "similar_user_recs = ratings[(ratings[\"userId\"].isin(similar_users)) &\\\n",
                                        "                             (ratings[\"rating\"] > 4)][\"movieId\"]\n",
                                        "similar_user_recs"
                              ]
                    },
                    {
                              "cell_type": "code",
                              "execution_count": 38,
                              "id": "b749965d",
                              "metadata": {},
                              "outputs": [
                                        {
                                                  "data": {
                                                            "text/plain": [
                                                                      "movieId\n",
                                                                      "89745    1.000000\n",
                                                                      "58559    0.573393\n",
                                                                      "59315    0.530649\n",
                                                                      "79132    0.519715\n",
                                                                      "2571     0.496687\n",
                                                                      "           ...   \n",
                                                                      "47610    0.103545\n",
                                                                      "780      0.103380\n",
                                                                      "88744    0.103048\n",
                                                                      "1258     0.101226\n",
                                                                      "1193     0.100895\n",
                                                                      "Name: count, Length: 193, dtype: float64"
                                                            ]
                                                  },
                                                  "execution_count": 38,
                                                  "metadata": {},
                                                  "output_type": "execute_result"
                                        }
                              ],
                              "source": [
                                        "similar_user_recs = similar_user_recs.value_counts() / len(similar_users)\n",
                                        "similar_user_recs = similar_user_recs[similar_user_recs > .10]\n",
                                        "similar_user_recs"
                              ]
                    },
                    {
                              "cell_type": "code",
                              "execution_count": 39,
                              "id": "70b7c5ad",
                              "metadata": {},
                              "outputs": [
                                        {
                                                  "data": {
                                                            "text/html": [
                                                                      "<div>\n",
                                                                      "<style scoped>\n",
                                                                      "    .dataframe tbody tr th:only-of-type {\n",
                                                                      "        vertical-align: middle;\n",
                                                                      "    }\n",
                                                                      "\n",
                                                                      "    .dataframe tbody tr th {\n",
                                                                      "        vertical-align: top;\n",
                                                                      "    }\n",
                                                                      "\n",
                                                                      "    .dataframe thead th {\n",
                                                                      "        text-align: right;\n",
                                                                      "    }\n",
                                                                      "</style>\n",
                                                                      "<table border=\"1\" class=\"dataframe\">\n",
                                                                      "  <thead>\n",
                                                                      "    <tr style=\"text-align: right;\">\n",
                                                                      "      <th></th>\n",
                                                                      "      <th>userId</th>\n",
                                                                      "      <th>movieId</th>\n",
                                                                      "      <th>rating</th>\n",
                                                                      "      <th>timestamp</th>\n",
                                                                      "    </tr>\n",
                                                                      "  </thead>\n",
                                                                      "  <tbody>\n",
                                                                      "    <tr>\n",
                                                                      "      <th>0</th>\n",
                                                                      "      <td>1</td>\n",
                                                                      "      <td>296</td>\n",
                                                                      "      <td>5.0</td>\n",
                                                                      "      <td>1147880044</td>\n",
                                                                      "    </tr>\n",
                                                                      "    <tr>\n",
                                                                      "      <th>29</th>\n",
                                                                      "      <td>1</td>\n",
                                                                      "      <td>4973</td>\n",
                                                                      "      <td>4.5</td>\n",
                                                                      "      <td>1147869080</td>\n",
                                                                      "    </tr>\n",
                                                                      "    <tr>\n",
                                                                      "      <th>48</th>\n",
                                                                      "      <td>1</td>\n",
                                                                      "      <td>7361</td>\n",
                                                                      "      <td>5.0</td>\n",
                                                                      "      <td>1147880055</td>\n",
                                                                      "    </tr>\n",
                                                                      "    <tr>\n",
                                                                      "      <th>72</th>\n",
                                                                      "      <td>2</td>\n",
                                                                      "      <td>110</td>\n",
                                                                      "      <td>5.0</td>\n",
                                                                      "      <td>1141416589</td>\n",
                                                                      "    </tr>\n",
                                                                      "    <tr>\n",
                                                                      "      <th>76</th>\n",
                                                                      "      <td>2</td>\n",
                                                                      "      <td>260</td>\n",
                                                                      "      <td>5.0</td>\n",
                                                                      "      <td>1141417172</td>\n",
                                                                      "    </tr>\n",
                                                                      "    <tr>\n",
                                                                      "      <th>...</th>\n",
                                                                      "      <td>...</td>\n",
                                                                      "      <td>...</td>\n",
                                                                      "      <td>...</td>\n",
                                                                      "      <td>...</td>\n",
                                                                      "    </tr>\n",
                                                                      "    <tr>\n",
                                                                      "      <th>25000065</th>\n",
                                                                      "      <td>162541</td>\n",
                                                                      "      <td>5952</td>\n",
                                                                      "      <td>5.0</td>\n",
                                                                      "      <td>1240952617</td>\n",
                                                                      "    </tr>\n",
                                                                      "    <tr>\n",
                                                                      "      <th>25000078</th>\n",
                                                                      "      <td>162541</td>\n",
                                                                      "      <td>7153</td>\n",
                                                                      "      <td>5.0</td>\n",
                                                                      "      <td>1240952613</td>\n",
                                                                      "    </tr>\n",
                                                                      "    <tr>\n",
                                                                      "      <th>25000081</th>\n",
                                                                      "      <td>162541</td>\n",
                                                                      "      <td>7361</td>\n",
                                                                      "      <td>4.5</td>\n",
                                                                      "      <td>1240953484</td>\n",
                                                                      "    </tr>\n",
                                                                      "    <tr>\n",
                                                                      "      <th>25000086</th>\n",
                                                                      "      <td>162541</td>\n",
                                                                      "      <td>31658</td>\n",
                                                                      "      <td>4.5</td>\n",
                                                                      "      <td>1240953287</td>\n",
                                                                      "    </tr>\n",
                                                                      "    <tr>\n",
                                                                      "      <th>25000090</th>\n",
                                                                      "      <td>162541</td>\n",
                                                                      "      <td>50872</td>\n",
                                                                      "      <td>4.5</td>\n",
                                                                      "      <td>1240953372</td>\n",
                                                                      "    </tr>\n",
                                                                      "  </tbody>\n",
                                                                      "</table>\n",
                                                                      "<p>1893092 rows × 4 columns</p>\n",
                                                                      "</div>"
                                                            ],
                                                            "text/plain": [
                                                                      "          userId  movieId  rating   timestamp\n",
                                                                      "0              1      296     5.0  1147880044\n",
                                                                      "29             1     4973     4.5  1147869080\n",
                                                                      "48             1     7361     5.0  1147880055\n",
                                                                      "72             2      110     5.0  1141416589\n",
                                                                      "76             2      260     5.0  1141417172\n",
                                                                      "...          ...      ...     ...         ...\n",
                                                                      "25000065  162541     5952     5.0  1240952617\n",
                                                                      "25000078  162541     7153     5.0  1240952613\n",
                                                                      "25000081  162541     7361     4.5  1240953484\n",
                                                                      "25000086  162541    31658     4.5  1240953287\n",
                                                                      "25000090  162541    50872     4.5  1240953372\n",
                                                                      "\n",
                                                                      "[1893092 rows x 4 columns]"
                                                            ]
                                                  },
                                                  "execution_count": 39,
                                                  "metadata": {},
                                                  "output_type": "execute_result"
                                        }
                              ],
                              "source": [
                                        "all_users = ratings[(ratings[\"movieId\"].isin(similar_user_recs.index)) &\\\n",
                                        "                     (ratings[\"rating\"] > 4)]\n",
                                        "all_users"
                              ]
                    },
                    {
                              "cell_type": "code",
                              "execution_count": 40,
                              "id": "e79e95a3",
                              "metadata": {},
                              "outputs": [
                                        {
                                                  "data": {
                                                            "text/plain": [
                                                                      "movieId\n",
                                                                      "318       0.346395\n",
                                                                      "296       0.288146\n",
                                                                      "2571      0.247010\n",
                                                                      "356       0.238136\n",
                                                                      "593       0.228665\n",
                                                                      "            ...   \n",
                                                                      "86332     0.010142\n",
                                                                      "91630     0.009324\n",
                                                                      "122900    0.008573\n",
                                                                      "122926    0.008070\n",
                                                                      "106072    0.005289\n",
                                                                      "Name: count, Length: 193, dtype: float64"
                                                            ]
                                                  },
                                                  "execution_count": 40,
                                                  "metadata": {},
                                                  "output_type": "execute_result"
                                        }
                              ],
                              "source": [
                                        "all_user_recs = all_users[\"movieId\"].value_counts() / len(all_users[\"userId\"].unique())\n",
                                        "all_user_recs"
                              ]
                    },
                    {
                              "cell_type": "code",
                              "execution_count": 41,
                              "id": "0c53fe8c",
                              "metadata": {},
                              "outputs": [
                                        {
                                                  "data": {
                                                            "text/html": [
                                                                      "<div>\n",
                                                                      "<style scoped>\n",
                                                                      "    .dataframe tbody tr th:only-of-type {\n",
                                                                      "        vertical-align: middle;\n",
                                                                      "    }\n",
                                                                      "\n",
                                                                      "    .dataframe tbody tr th {\n",
                                                                      "        vertical-align: top;\n",
                                                                      "    }\n",
                                                                      "\n",
                                                                      "    .dataframe thead th {\n",
                                                                      "        text-align: right;\n",
                                                                      "    }\n",
                                                                      "</style>\n",
                                                                      "<table border=\"1\" class=\"dataframe\">\n",
                                                                      "  <thead>\n",
                                                                      "    <tr style=\"text-align: right;\">\n",
                                                                      "      <th></th>\n",
                                                                      "      <th>similar</th>\n",
                                                                      "      <th>all</th>\n",
                                                                      "    </tr>\n",
                                                                      "    <tr>\n",
                                                                      "      <th>movieId</th>\n",
                                                                      "      <th></th>\n",
                                                                      "      <th></th>\n",
                                                                      "    </tr>\n",
                                                                      "  </thead>\n",
                                                                      "  <tbody>\n",
                                                                      "    <tr>\n",
                                                                      "      <th>89745</th>\n",
                                                                      "      <td>1.000000</td>\n",
                                                                      "      <td>0.040459</td>\n",
                                                                      "    </tr>\n",
                                                                      "    <tr>\n",
                                                                      "      <th>58559</th>\n",
                                                                      "      <td>0.573393</td>\n",
                                                                      "      <td>0.148256</td>\n",
                                                                      "    </tr>\n",
                                                                      "    <tr>\n",
                                                                      "      <th>59315</th>\n",
                                                                      "      <td>0.530649</td>\n",
                                                                      "      <td>0.054931</td>\n",
                                                                      "    </tr>\n",
                                                                      "    <tr>\n",
                                                                      "      <th>79132</th>\n",
                                                                      "      <td>0.519715</td>\n",
                                                                      "      <td>0.132987</td>\n",
                                                                      "    </tr>\n",
                                                                      "    <tr>\n",
                                                                      "      <th>2571</th>\n",
                                                                      "      <td>0.496687</td>\n",
                                                                      "      <td>0.247010</td>\n",
                                                                      "    </tr>\n",
                                                                      "    <tr>\n",
                                                                      "      <th>...</th>\n",
                                                                      "      <td>...</td>\n",
                                                                      "      <td>...</td>\n",
                                                                      "    </tr>\n",
                                                                      "    <tr>\n",
                                                                      "      <th>47610</th>\n",
                                                                      "      <td>0.103545</td>\n",
                                                                      "      <td>0.022770</td>\n",
                                                                      "    </tr>\n",
                                                                      "    <tr>\n",
                                                                      "      <th>780</th>\n",
                                                                      "      <td>0.103380</td>\n",
                                                                      "      <td>0.054723</td>\n",
                                                                      "    </tr>\n",
                                                                      "    <tr>\n",
                                                                      "      <th>88744</th>\n",
                                                                      "      <td>0.103048</td>\n",
                                                                      "      <td>0.010383</td>\n",
                                                                      "    </tr>\n",
                                                                      "    <tr>\n",
                                                                      "      <th>1258</th>\n",
                                                                      "      <td>0.101226</td>\n",
                                                                      "      <td>0.083887</td>\n",
                                                                      "    </tr>\n",
                                                                      "    <tr>\n",
                                                                      "      <th>1193</th>\n",
                                                                      "      <td>0.100895</td>\n",
                                                                      "      <td>0.120244</td>\n",
                                                                      "    </tr>\n",
                                                                      "  </tbody>\n",
                                                                      "</table>\n",
                                                                      "<p>193 rows × 2 columns</p>\n",
                                                                      "</div>"
                                                            ],
                                                            "text/plain": [
                                                                      "          similar       all\n",
                                                                      "movieId                    \n",
                                                                      "89745    1.000000  0.040459\n",
                                                                      "58559    0.573393  0.148256\n",
                                                                      "59315    0.530649  0.054931\n",
                                                                      "79132    0.519715  0.132987\n",
                                                                      "2571     0.496687  0.247010\n",
                                                                      "...           ...       ...\n",
                                                                      "47610    0.103545  0.022770\n",
                                                                      "780      0.103380  0.054723\n",
                                                                      "88744    0.103048  0.010383\n",
                                                                      "1258     0.101226  0.083887\n",
                                                                      "1193     0.100895  0.120244\n",
                                                                      "\n",
                                                                      "[193 rows x 2 columns]"
                                                            ]
                                                  },
                                                  "execution_count": 41,
                                                  "metadata": {},
                                                  "output_type": "execute_result"
                                        }
                              ],
                              "source": [
                                        "rec_percentages = pd.concat([similar_user_recs, all_user_recs], axis=1)\n",
                                        "rec_percentages.columns = [\"similar\", \"all\"]\n",
                                        "rec_percentages"
                              ]
                    },
                    {
                              "cell_type": "markdown",
                              "id": "e8523253",
                              "metadata": {},
                              "source": [
                                        "## Recomendações de filmes"
                              ]
                    },
                    {
                              "cell_type": "code",
                              "execution_count": 42,
                              "id": "556fe392-6a52-4c40-a129-036b4e4435a0",
                              "metadata": {},
                              "outputs": [
                                        {
                                                  "data": {
                                                            "application/vnd.jupyter.widget-view+json": {
                                                                      "model_id": "572786f29e024805958552405d528b10",
                                                                      "version_major": 2,
                                                                      "version_minor": 0
                                                            },
                                                            "text/plain": [
                                                                      "Text(value='Toy Story', description='Movie Title:')"
                                                            ]
                                                  },
                                                  "metadata": {},
                                                  "output_type": "display_data"
                                        },
                                        {
                                                  "data": {
                                                            "application/vnd.jupyter.widget-view+json": {
                                                                      "model_id": "63ea8f91a04348deb30ecd17bb99dde5",
                                                                      "version_major": 2,
                                                                      "version_minor": 0
                                                            },
                                                            "text/plain": [
                                                                      "Output()"
                                                            ]
                                                  },
                                                  "metadata": {},
                                                  "output_type": "display_data"
                                        }
                              ],
                              "source": [
                                        "movie_name_input = widgets.Text(\n",
                                        "    value='Toy Story',\n",
                                        "    description='Movie Title:',\n",
                                        "    disabled=False\n",
                                        ")\n",
                                        "recommendation_list = widgets.Output()\n",
                                        "\n",
                                        "movie_name_input.observe(on_type, names='value')\n",
                                        "\n",
                                        "display(movie_name_input, recommendation_list)"
                              ]
                    },
                    {
                              "cell_type": "markdown",
                              "id": "7a7a20e5",
                              "metadata": {},
                              "source": [
                                        "## Filtro de filmes por nome"
                              ]
                    },
                    {
                              "cell_type": "code",
                              "execution_count": 44,
                              "id": "afbec0fc",
                              "metadata": {},
                              "outputs": [
                                        {
                                                  "data": {
                                                            "application/vnd.jupyter.widget-view+json": {
                                                                      "model_id": "cb8912b310104235af42a920945f9b9f",
                                                                      "version_major": 2,
                                                                      "version_minor": 0
                                                            },
                                                            "text/plain": [
                                                                      "Text(value='Toy Story', description='Movie Title:')"
                                                            ]
                                                  },
                                                  "metadata": {},
                                                  "output_type": "display_data"
                                        },
                                        {
                                                  "data": {
                                                            "application/vnd.jupyter.widget-view+json": {
                                                                      "model_id": "8e198b3ca8ec4f04a9a893b191496b72",
                                                                      "version_major": 2,
                                                                      "version_minor": 0
                                                            },
                                                            "text/plain": [
                                                                      "Output()"
                                                            ]
                                                  },
                                                  "metadata": {},
                                                  "output_type": "display_data"
                                        }
                              ],
                              "source": [
                                        "movie_input = widgets.Text(\n",
                                        "    value='Toy Story',\n",
                                        "    description='Movie Title:',\n",
                                        "    disabled=False\n",
                                        ")\n",
                                        "movie_list = widgets.Output()\n",
                                        "\n",
                                        "movie_input.observe(on_type, names='value')\n",
                                        "\n",
                                        "display(movie_input, movie_list)"
                              ]
                    }
          ],
          "metadata": {
                    "kernelspec": {
                              "display_name": "Python 3 (ipykernel)",
                              "language": "python",
                              "name": "python3"
                    },
                    "language_info": {
                              "codemirror_mode": {
                                        "name": "ipython",
                                        "version": 3
                              },
                              "file_extension": ".py",
                              "mimetype": "text/x-python",
                              "name": "python",
                              "nbconvert_exporter": "python",
                              "pygments_lexer": "ipython3",
                              "version": "3.10.8"
                    }
          },
          "nbformat": 4,
          "nbformat_minor": 5
}
